{
 "cells": [
  {
   "cell_type": "markdown",
   "id": "f7696f10-3bf3-48f4-a04d-72df4eb47b01",
   "metadata": {},
   "source": [
    "**BrainStation Bootcamp (12 September to 1 December 2023)**\n",
    "\n",
    "*Unit 2 Deliverable 2,     \n",
    "Deadline: XX November 2023   \n",
    "Author: Reema Sipra*"
   ]
  },
  {
   "cell_type": "markdown",
   "id": "bdcafc3d-4989-46ec-9085-aebeb255d260",
   "metadata": {},
   "source": [
    "---"
   ]
  },
  {
   "cell_type": "markdown",
   "id": "41181676-188d-4697-ac00-511983f43550",
   "metadata": {},
   "source": [
    "##  <font color=teal>Table of Contents</font>"
   ]
  },
  {
   "cell_type": "markdown",
   "id": "e786d28d-60cf-4ea3-920c-d7b4e978a4b4",
   "metadata": {},
   "source": [
    "1. **[Introduction](#Introduction)**\n",
    "2. **[Data Dictionary](#DataDictionary)**\n",
    "3. **[Part 1: Basic Analysis](#Part1)**\n",
    "    - [Question 1: convert 'WNV Present' to binary, 'Trap type' to dummy variables.](#Part1Question1)\n",
    "    - [Question 2: trend of average mosquitos by month.](#Part1Question2)\n",
    "4. **[Part 2: Statistical Analysis](#Part2)**\n",
    "    - [Question 1: is there statistically significant difference between the different mosquito species when looking at the occurrence of West Nile Virus?](#Part2Question1)\n",
    "    - [Question 2: columns correlated with the number of mosquitoes caught](#PartQ2uestion2)\n",
    "5. **[Part 3: Advanced EDA](#Part3)**\n",
    "    - [Question 1: linear regression to determine how the independent variables affect the number of mosquitoes caught.](#Part3Question1)\n",
    "    - [Question 2: logistic regression to determine how the independent variables affect West Nile Virus presence](#Part3Question2)\n",
    "6. **[Conclusion](#Conclusion)**"
   ]
  },
  {
   "cell_type": "markdown",
   "id": "094d3752-ec00-4e0c-bbb4-e8353767ce68",
   "metadata": {},
   "source": [
    "---"
   ]
  },
  {
   "cell_type": "markdown",
   "id": "8db0e605-df38-4054-bacf-d984cefaf93a",
   "metadata": {},
   "source": [
    "##  <font color=teal>Introduction</font><a id = \"Introduction\"></a>"
   ]
  },
  {
   "cell_type": "markdown",
   "id": "b21a9f71-e22e-4058-a118-5436ea5b4cac",
   "metadata": {},
   "source": [
    "XXX\n",
    "\n",
    "**Data Source:** XXX."
   ]
  },
  {
   "cell_type": "markdown",
   "id": "41e43421-05ef-4bc2-b02b-39f144148389",
   "metadata": {},
   "source": [
    "[Back to the top](#Table-of-Contents)"
   ]
  },
  {
   "cell_type": "markdown",
   "id": "c4ff6dc6-decd-4b17-bc7c-daf629f7f5bc",
   "metadata": {},
   "source": [
    "## <font color=teal>Data Dictionary</font><a id = \"DataDictionary\"></a>"
   ]
  },
  {
   "cell_type": "markdown",
   "id": "3ba98489-7200-4c25-9afb-19bbb7d433b4",
   "metadata": {},
   "source": [
    "**Variables:**\n",
    "- `XXX\n",
    "\n",
    "**Targets:**\n",
    "\n",
    "For linear regression:\n",
    "- XXX\n",
    "\n",
    "For logistical regression:\n",
    "- `XXX"
   ]
  },
  {
   "cell_type": "markdown",
   "id": "0172a164-fe96-4baf-bc9c-922d1b71a1d8",
   "metadata": {},
   "source": [
    "[Back to the top](#Table-of-Contents)"
   ]
  },
  {
   "cell_type": "markdown",
   "id": "9ac93f0d-1e9b-4c79-a627-6acd0546a6c3",
   "metadata": {
    "tags": []
   },
   "source": [
    "## <font color=teal>Part 1: Basic Analysis</font><a id = \"Part1\"></a>"
   ]
  },
  {
   "cell_type": "code",
   "execution_count": 1,
   "id": "cdd6d244-3ec9-41c9-9b8d-1371b76c3847",
   "metadata": {
    "tags": []
   },
   "outputs": [],
   "source": [
    "import pandas as pd\n",
    "import numpy as np\n",
    "import seaborn as sns\n",
    "import matplotlib.pyplot as plt\n",
    "from scipy import stats\n",
    "from scipy.stats import norm "
   ]
  },
  {
   "cell_type": "markdown",
   "id": "ce664dcf-81a4-474e-b888-1cf508f81bf6",
   "metadata": {},
   "source": [
    "Then the cleaned data needs to be imported from the csv file."
   ]
  },
  {
   "cell_type": "code",
   "execution_count": 2,
   "id": "9b75c7c7-0a4d-453b-bde6-3c880e6a2c5d",
   "metadata": {
    "tags": []
   },
   "outputs": [
    {
     "data": {
      "text/html": [
       "<div>\n",
       "<style scoped>\n",
       "    .dataframe tbody tr th:only-of-type {\n",
       "        vertical-align: middle;\n",
       "    }\n",
       "\n",
       "    .dataframe tbody tr th {\n",
       "        vertical-align: top;\n",
       "    }\n",
       "\n",
       "    .dataframe thead th {\n",
       "        text-align: right;\n",
       "    }\n",
       "</style>\n",
       "<table border=\"1\" class=\"dataframe\">\n",
       "  <thead>\n",
       "    <tr style=\"text-align: right;\">\n",
       "      <th></th>\n",
       "      <th>Year</th>\n",
       "      <th>Week</th>\n",
       "      <th>Address Block</th>\n",
       "      <th>Trap</th>\n",
       "      <th>Trap type</th>\n",
       "      <th>Date</th>\n",
       "      <th>Mosquito number</th>\n",
       "      <th>WNV Present</th>\n",
       "      <th>Species</th>\n",
       "      <th>Lat</th>\n",
       "      <th>Lon</th>\n",
       "      <th>Month</th>\n",
       "    </tr>\n",
       "  </thead>\n",
       "  <tbody>\n",
       "    <tr>\n",
       "      <th>0</th>\n",
       "      <td>2019</td>\n",
       "      <td>39</td>\n",
       "      <td>100XX W OHARE AIRPORT</td>\n",
       "      <td>T910</td>\n",
       "      <td>GRAVID</td>\n",
       "      <td>2019-09-26 00:09:00</td>\n",
       "      <td>2</td>\n",
       "      <td>negative</td>\n",
       "      <td>CULEX RESTUANS</td>\n",
       "      <td>41.977738</td>\n",
       "      <td>-87.880969</td>\n",
       "      <td>9</td>\n",
       "    </tr>\n",
       "    <tr>\n",
       "      <th>1</th>\n",
       "      <td>2019</td>\n",
       "      <td>39</td>\n",
       "      <td>52XX S KOLMAR AVE</td>\n",
       "      <td>T114</td>\n",
       "      <td>GRAVID</td>\n",
       "      <td>2019-09-26 00:09:00</td>\n",
       "      <td>1</td>\n",
       "      <td>negative</td>\n",
       "      <td>CULEX RESTUANS</td>\n",
       "      <td>41.798211</td>\n",
       "      <td>-87.736925</td>\n",
       "      <td>9</td>\n",
       "    </tr>\n",
       "    <tr>\n",
       "      <th>2</th>\n",
       "      <td>2019</td>\n",
       "      <td>39</td>\n",
       "      <td>58XX N WESTERN AVE</td>\n",
       "      <td>T028</td>\n",
       "      <td>GRAVID</td>\n",
       "      <td>2019-09-26 00:09:00</td>\n",
       "      <td>2</td>\n",
       "      <td>negative</td>\n",
       "      <td>CULEX RESTUANS</td>\n",
       "      <td>41.987245</td>\n",
       "      <td>-87.689417</td>\n",
       "      <td>9</td>\n",
       "    </tr>\n",
       "    <tr>\n",
       "      <th>3</th>\n",
       "      <td>2019</td>\n",
       "      <td>39</td>\n",
       "      <td>39XX N SPRINGFIELD AVE</td>\n",
       "      <td>T228</td>\n",
       "      <td>GRAVID</td>\n",
       "      <td>2019-09-26 00:09:00</td>\n",
       "      <td>1</td>\n",
       "      <td>negative</td>\n",
       "      <td>CULEX RESTUANS</td>\n",
       "      <td>41.953664</td>\n",
       "      <td>-87.724987</td>\n",
       "      <td>9</td>\n",
       "    </tr>\n",
       "    <tr>\n",
       "      <th>4</th>\n",
       "      <td>2019</td>\n",
       "      <td>39</td>\n",
       "      <td>131XX S BRANDON AVE</td>\n",
       "      <td>T209</td>\n",
       "      <td>GRAVID</td>\n",
       "      <td>2019-09-26 00:09:00</td>\n",
       "      <td>9</td>\n",
       "      <td>negative</td>\n",
       "      <td>CULEX RESTUANS</td>\n",
       "      <td>41.657069</td>\n",
       "      <td>-87.546049</td>\n",
       "      <td>9</td>\n",
       "    </tr>\n",
       "  </tbody>\n",
       "</table>\n",
       "</div>"
      ],
      "text/plain": [
       "   Year  Week           Address Block  Trap Trap type                 Date  \\\n",
       "0  2019    39   100XX W OHARE AIRPORT  T910    GRAVID  2019-09-26 00:09:00   \n",
       "1  2019    39       52XX S KOLMAR AVE  T114    GRAVID  2019-09-26 00:09:00   \n",
       "2  2019    39      58XX N WESTERN AVE  T028    GRAVID  2019-09-26 00:09:00   \n",
       "3  2019    39  39XX N SPRINGFIELD AVE  T228    GRAVID  2019-09-26 00:09:00   \n",
       "4  2019    39     131XX S BRANDON AVE  T209    GRAVID  2019-09-26 00:09:00   \n",
       "\n",
       "   Mosquito number WNV Present         Species        Lat        Lon  Month  \n",
       "0                2    negative  CULEX RESTUANS  41.977738 -87.880969      9  \n",
       "1                1    negative  CULEX RESTUANS  41.798211 -87.736925      9  \n",
       "2                2    negative  CULEX RESTUANS  41.987245 -87.689417      9  \n",
       "3                1    negative  CULEX RESTUANS  41.953664 -87.724987      9  \n",
       "4                9    negative  CULEX RESTUANS  41.657069 -87.546049      9  "
      ]
     },
     "execution_count": 2,
     "metadata": {},
     "output_type": "execute_result"
    }
   ],
   "source": [
    "university_df = pd.read_csv(\"Data/mosquito_data_part_2.csv\")\n",
    "\n",
    "# A look at the top 5 records in the dataframe.\n",
    "university_df.head()"
   ]
  }
 ],
 "metadata": {
  "kernelspec": {
   "display_name": "Python 3 (ipykernel)",
   "language": "python",
   "name": "python3"
  },
  "language_info": {
   "codemirror_mode": {
    "name": "ipython",
    "version": 3
   },
   "file_extension": ".py",
   "mimetype": "text/x-python",
   "name": "python",
   "nbconvert_exporter": "python",
   "pygments_lexer": "ipython3",
   "version": "3.11.5"
  }
 },
 "nbformat": 4,
 "nbformat_minor": 5
}
