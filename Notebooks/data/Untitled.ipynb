{
 "cells": [
  {
   "cell_type": "markdown",
   "id": "1037f9ec-857b-4d61-a2c7-0cfd7274e4d6",
   "metadata": {
    "tags": []
   },
   "source": [
    "# <font color=teal>University Admission Modelling: Initial Data Cleaning & EDA</font>"
   ]
  },
  {
   "cell_type": "markdown",
   "id": "fc875df2-83d9-4807-a8c2-70e6af865f76",
   "metadata": {},
   "source": [
    "**BrainStation Bootcamp (12 September to 1 December 2023)**\n",
    "\n",
    "*Capstone Project,     \n",
    "Deadline: 30 November 2023   \n",
    "Author: Reema Sipra*"
   ]
  },
  {
   "cell_type": "markdown",
   "id": "869ffe8a-c8b3-4745-9498-4cbf15eb4547",
   "metadata": {},
   "source": [
    "---"
   ]
  },
  {
   "cell_type": "markdown",
   "id": "a6b190df-59b5-438b-a3cc-5e1442ad90fe",
   "metadata": {},
   "source": [
    "##  <font color=teal>Table of Contents</font><a id = \"TableOC\"></a>"
   ]
  },
  {
   "cell_type": "markdown",
   "id": "3c96834e-444b-4ae2-8cbd-e646ef8ccbda",
   "metadata": {},
   "source": [
    "1. **[Introduction](#Intro)**\n",
    "2. **[Notebook Environment](#NotebookEnv)**\n",
    "3. **[Dataset Source](#DataSource)**\n",
    "\n",
    "x.  **[References](#ReferenceList)**"
   ]
  },
  {
   "cell_type": "markdown",
   "id": "def1c27e-b53a-4ddd-adc6-1bfc2365dc11",
   "metadata": {},
   "source": [
    "---"
   ]
  },
  {
   "cell_type": "markdown",
   "id": "9f6a3e07-f809-452e-9f2f-be1032d57302",
   "metadata": {},
   "source": [
    "##  <font color=teal>Introduction</font><a id = \"Intro\"></a>"
   ]
  },
  {
   "cell_type": "markdown",
   "id": "94ccc921-f806-42b1-97fe-5c726f452365",
   "metadata": {},
   "source": [
    "One of the biggest decision points for students and their parents is picking a suitable university and career. People spend considerable resources to pick and get into the right university. \n",
    "\n",
    "**Objectives:**\n",
    "- Support decision making of high school students & parents.\n",
    "- Create a model for students to estimate earnings for given program and university."
   ]
  },
  {
   "cell_type": "markdown",
   "id": "d0f6a9cb-512f-47eb-b856-2e4a68509840",
   "metadata": {},
   "source": [
    "[Back to the top](#TableOC)"
   ]
  },
  {
   "cell_type": "markdown",
   "id": "ed0cb60d-4b0b-4451-a89a-fba3a05ccca0",
   "metadata": {},
   "source": [
    "## <font color=teal>Notebook Environtment</font><a id = \"NotebookEnv\"></a>"
   ]
  },
  {
   "cell_type": "markdown",
   "id": "5ac99e63-d3d3-4384-9cc3-42f7b39ac27c",
   "metadata": {},
   "source": [
    "This project utilizes the \"RIS_capstone_env\" environment package created specifically for this project."
   ]
  },
  {
   "cell_type": "markdown",
   "id": "706c46ad-2df6-4580-bd83-2dfbda4bdfa8",
   "metadata": {},
   "source": [
    "## <font color=teal>Dataset Source</font><a id = \"DataSource\"></a>"
   ]
  },
  {
   "cell_type": "markdown",
   "id": "180af5f2-87ec-4411-b08f-8228137dbcb4",
   "metadata": {},
   "source": [
    "**Data Source:** \n",
    "US Department of Education, College Scorecard [[1]](#Ref1)\n",
    "\n",
    "**College Scorecard:** An online tool created by the US government to allow users to compare the cost and value of higher institutional learning. Includes data on Title IV Universities (receive federal funding to make tuition affordable).\n",
    "\n",
    "Initiated by President Obama to: \" be able to see how much each school's graduates earn, how much debt they graduate with, and what percentage of a school's students can pay back their loans.\" \n",
    "\n",
    "**Three main components:** \n",
    " - Institutional level data: (6543 universities, 15 categories, 3232 columns) over 26 years.\n",
    " - Fields of study at the universities (233,979 study areas, 160 columns) over 6 years.\n",
    " - Crosswalks:  map of differing institutional data defintion between university and the federal government (25004 records, 21 columns) over 20 years.\n",
    "\n"
   ]
  },
  {
   "cell_type": "markdown",
   "id": "2c5acd75-83f0-423c-a065-d90b971133e3",
   "metadata": {},
   "source": [
    "#### Data Dictionary:<a id = \"DataDictionary\"></a>"
   ]
  },
  {
   "cell_type": "markdown",
   "id": "ce46abf7-9f08-40a6-92a6-145208927bfe",
   "metadata": {},
   "source": [
    "- A detailed glossary of terms can be found [here](https://surveys.nces.ed.gov/ipeds/public/glossary) [[2]](#Ref2).\n",
    "- An excel file of the full dataset dictonary can be found [here](#https://collegescorecard.ed.gov/data/documentation/) [[3]](#Ref3).\n",
    "- A dataframe for the data dictionary of the institutional data has also been created for the project using the `yaml` file, included with the dataset [[1]](#Ref1), and will be imported here from the `Initial Dataset Exploration` notebook. This notebook can be used to look up items from the institutional data frame right from the notebook."
   ]
  },
  {
   "cell_type": "code",
   "execution_count": 1,
   "id": "3aa9f038-6ee0-4a92-88fb-6fe599748ff4",
   "metadata": {
    "tags": []
   },
   "outputs": [],
   "source": [
    "# Retrieving the stored dataframe:\n",
    "%store -r institution_column_data"
   ]
  },
  {
   "cell_type": "code",
   "execution_count": 3,
   "id": "f56f86f7-849c-45e3-b7a1-3b402d1874e8",
   "metadata": {
    "tags": []
   },
   "outputs": [
    {
     "data": {
      "text/html": [
       "<div>\n",
       "<style scoped>\n",
       "    .dataframe tbody tr th:only-of-type {\n",
       "        vertical-align: middle;\n",
       "    }\n",
       "\n",
       "    .dataframe tbody tr th {\n",
       "        vertical-align: top;\n",
       "    }\n",
       "\n",
       "    .dataframe thead th {\n",
       "        text-align: right;\n",
       "    }\n",
       "</style>\n",
       "<table border=\"1\" class=\"dataframe\">\n",
       "  <thead>\n",
       "    <tr style=\"text-align: right;\">\n",
       "      <th></th>\n",
       "      <th>Column_id</th>\n",
       "      <th>Category_level_1</th>\n",
       "      <th>Category_level_2</th>\n",
       "      <th>Category_level_3</th>\n",
       "      <th>column_description</th>\n",
       "    </tr>\n",
       "  </thead>\n",
       "  <tbody>\n",
       "    <tr>\n",
       "      <th>0</th>\n",
       "      <td>PCIP01</td>\n",
       "      <td>academics</td>\n",
       "      <td>program_percentage</td>\n",
       "      <td>agriculture</td>\n",
       "      <td>Percentage of degrees awarded in Agriculture, ...</td>\n",
       "    </tr>\n",
       "    <tr>\n",
       "      <th>1</th>\n",
       "      <td>PCIP03</td>\n",
       "      <td>academics</td>\n",
       "      <td>program_percentage</td>\n",
       "      <td>resources</td>\n",
       "      <td>Percentage of degrees awarded in Natural Resou...</td>\n",
       "    </tr>\n",
       "    <tr>\n",
       "      <th>2</th>\n",
       "      <td>PCIP04</td>\n",
       "      <td>academics</td>\n",
       "      <td>program_percentage</td>\n",
       "      <td>architecture</td>\n",
       "      <td>Percentage of degrees awarded in Architecture ...</td>\n",
       "    </tr>\n",
       "    <tr>\n",
       "      <th>3</th>\n",
       "      <td>PCIP05</td>\n",
       "      <td>academics</td>\n",
       "      <td>program_percentage</td>\n",
       "      <td>ethnic_cultural_gender</td>\n",
       "      <td>Percentage of degrees awarded in Area, Ethnic,...</td>\n",
       "    </tr>\n",
       "    <tr>\n",
       "      <th>4</th>\n",
       "      <td>PCIP09</td>\n",
       "      <td>academics</td>\n",
       "      <td>program_percentage</td>\n",
       "      <td>communication</td>\n",
       "      <td>Percentage of degrees awarded in Communication...</td>\n",
       "    </tr>\n",
       "  </tbody>\n",
       "</table>\n",
       "</div>"
      ],
      "text/plain": [
       "  Column_id Category_level_1    Category_level_2        Category_level_3  \\\n",
       "0    PCIP01        academics  program_percentage             agriculture   \n",
       "1    PCIP03        academics  program_percentage               resources   \n",
       "2    PCIP04        academics  program_percentage            architecture   \n",
       "3    PCIP05        academics  program_percentage  ethnic_cultural_gender   \n",
       "4    PCIP09        academics  program_percentage           communication   \n",
       "\n",
       "                                  column_description  \n",
       "0  Percentage of degrees awarded in Agriculture, ...  \n",
       "1  Percentage of degrees awarded in Natural Resou...  \n",
       "2  Percentage of degrees awarded in Architecture ...  \n",
       "3  Percentage of degrees awarded in Area, Ethnic,...  \n",
       "4  Percentage of degrees awarded in Communication...  "
      ]
     },
     "execution_count": 3,
     "metadata": {},
     "output_type": "execute_result"
    }
   ],
   "source": [
    "# Check import was ok:\n",
    "institution_column_data.head(5)"
   ]
  },
  {
   "cell_type": "markdown",
   "id": "dec0bff0-d838-4e01-8d9e-34e403a16aaa",
   "metadata": {},
   "source": [
    "## <font color=teal>Consolidate data for Analysis</font><a id = \"ReferenceList\"></a>"
   ]
  },
  {
   "cell_type": "markdown",
   "id": "c9619512-284e-412a-ad31-1e3f33938b1c",
   "metadata": {},
   "source": [
    "#### Extract relevant data from the dataset:"
   ]
  },
  {
   "cell_type": "code",
   "execution_count": null,
   "id": "f3a5450d-f42e-4228-92b5-216bbcca55cf",
   "metadata": {},
   "outputs": [],
   "source": []
  },
  {
   "cell_type": "markdown",
   "id": "aa8a6f91-a1a9-4369-a27f-7b9b6655909e",
   "metadata": {},
   "source": [
    "## <font color=teal>References</font><a id = \"ReferenceList\"></a>"
   ]
  },
  {
   "cell_type": "markdown",
   "id": "cc51bda4-ad49-4122-9f21-2a90f0c2b486",
   "metadata": {},
   "source": [
    "<a id = \"Ref1\"></a>[[1]](#Data):  \"*Data Home: Download the data*\", v.Oct 2023, College Scorecard, US Dept. of Education, (https://collegescorecard.ed.gov/data/), last viewed: 10 Nov 2023."
   ]
  },
  {
   "cell_type": "markdown",
   "id": "b99b6a84-0ce8-4848-8965-737cb0b71930",
   "metadata": {},
   "source": [
    "<a id = \"Ref1\"></a> [[2]](#DataDictionary): \"*View Glossary*\", IPEDS 2023-24 Data Collection System, (https://surveys.nces.ed.gov/ipeds/public/glossary), last viewed: 10 Nov 2023."
   ]
  },
  {
   "cell_type": "markdown",
   "id": "61627c53-edb3-460c-9a05-4aae170aaf19",
   "metadata": {},
   "source": [
    "<a id = \"Ref1\"></a> [[3]](#DataDictionary): \"*Data Documentation*\", v.Oct 2023, College Scorecard, US Dept. of Education, (https://collegescorecard.ed.gov/data/documentation/), last viewed: 10 Nov 2023."
   ]
  },
  {
   "cell_type": "markdown",
   "id": "4a6d0de1-e962-46c7-80ce-11d424060d92",
   "metadata": {},
   "source": [
    "[Back to the top](#TableOC)"
   ]
  }
 ],
 "metadata": {
  "kernelspec": {
   "display_name": "RIS_capstone_env",
   "language": "python",
   "name": "ris_capstone_env"
  },
  "language_info": {
   "codemirror_mode": {
    "name": "ipython",
    "version": 3
   },
   "file_extension": ".py",
   "mimetype": "text/x-python",
   "name": "python",
   "nbconvert_exporter": "python",
   "pygments_lexer": "ipython3",
   "version": "3.8.18"
  }
 },
 "nbformat": 4,
 "nbformat_minor": 5
}
