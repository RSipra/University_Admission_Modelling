{
 "cells": [
  {
   "cell_type": "markdown",
   "id": "1037f9ec-857b-4d61-a2c7-0cfd7274e4d6",
   "metadata": {
    "tags": []
   },
   "source": [
    "# <center><font color=teal>University Modelling</font></center>"
   ]
  },
  {
   "cell_type": "markdown",
   "id": "e647e1a6-6623-4725-9a2e-3c2bce119497",
   "metadata": {
    "tags": []
   },
   "source": [
    "## <font color=teal>Initial Data Cleaning & EDA (Sprint 2)</font>"
   ]
  },
  {
   "cell_type": "markdown",
   "id": "fc875df2-83d9-4807-a8c2-70e6af865f76",
   "metadata": {},
   "source": [
    "**BrainStation Bootcamp (12 September to 1 December 2023)**\n",
    "\n",
    "*Capstone Project,     \n",
    "Deadline: 30 November 2023   \n",
    "Author: Reema Sipra*"
   ]
  },
  {
   "cell_type": "markdown",
   "id": "869ffe8a-c8b3-4745-9498-4cbf15eb4547",
   "metadata": {},
   "source": [
    "---"
   ]
  },
  {
   "cell_type": "markdown",
   "id": "a6b190df-59b5-438b-a3cc-5e1442ad90fe",
   "metadata": {},
   "source": [
    "##  <font color=teal>Table of Contents</font><a id = \"TableOC\"></a>"
   ]
  },
  {
   "cell_type": "markdown",
   "id": "3c96834e-444b-4ae2-8cbd-e646ef8ccbda",
   "metadata": {},
   "source": [
    "1. **[Introduction](#Intro)**\n",
    "2. **[Notebook Environment](#NotebookEnv)**\n",
    "3. **[Dataset Source](#DataSource)**\n",
    "\n",
    "x.  **[References](#ReferenceList)**"
   ]
  },
  {
   "cell_type": "markdown",
   "id": "def1c27e-b53a-4ddd-adc6-1bfc2365dc11",
   "metadata": {},
   "source": [
    "---"
   ]
  },
  {
   "cell_type": "markdown",
   "id": "9f6a3e07-f809-452e-9f2f-be1032d57302",
   "metadata": {},
   "source": [
    "##  <font color=teal>Introduction</font><a id = \"Intro\"></a>"
   ]
  },
  {
   "cell_type": "markdown",
   "id": "94ccc921-f806-42b1-97fe-5c726f452365",
   "metadata": {},
   "source": [
    "One of the biggest decision points for students and their parents is picking a suitable university and career. People spend considerable resources to pick and get into the right university. With increasing educational costs and facing an increasingly competitive job market after graduation, making an informed decision is even more crtical for prospective students and their families.\n",
    "\n",
    "The key to making an informed decision is relevant data that is presented in a useful manner. There is a wealth of information provided by govrenmental institutions and universities that can be analyzed through machine learning models to support such desicion making. Leveraging techniques such as time series analysis through AutoRegressive (AR) models and Convolutional Neural Networks (CNN), this project aims to provide a nuanced understanding of the complex interplay between these variables and future financial success.\n",
    "\n",
    "Furthermore, these models have the potential to also support university with their strategies by enabling them to tailor their programs to better align with the financial expectations of students and enhance overall educational outcomes. It can also support diversification of the student body.\n",
    "\n",
    "**Project Objectives:**\n",
    "The objectives of the project have been updated to the following since Sprint-1:\n",
    "- Support decision making of high school students & parents.\n",
    "- Create a reliable model for students to estimate earnings for given program and university.\n",
    "\n",
    "**Notebook (Sprint-2) Objectives:**\n",
    "The objectives of this notebook are to:\n",
    "- Create a dataframe with the necessary features for a bottom-up modelling approach.\n",
    "- Setup the data for modelling.\n",
    "- Perform preliminary EDA on the dataframe.\n",
    "\n",
    "**Highlevel methodology**:\n",
    "This will entail time series modelling of the projected earning based on selected key features. The key features will be determined through EDA and modelling iteratively through a bottom-up approach. For advanced modelling, Convolutional Nueral Networks can be considered as they are also used for time series analysis.\n",
    "\n",
    "**Important notes on work progression** since *Initial Data Exploration (Sprint 1):*\n",
    "\n",
    "Like any real world project, for this Capstone project there are updates, modifications, and revisits to the drawing board as the understanding of the problem space has grown. This is common in the early-stages of a project. It is important to front-load project modifications in the initial or conceptual stage of the project to clarify the scope and approah where the impact on the cost with respect to time and resources is considerably less compared to later stages (e.g. modelling, evaluation, deployment phases). The key modifications since Sprint-1:\n",
    "\n",
    "1. **Title, Intent, and objective of the project**: The original intent was to predict enrollment of students into universities and this has been changed to a time series analysis of projected earnings e.g. for a given program / university etc combination.\n",
    "2. **Methodology, EDA & modelling approach**: Originally models such as logistic regression, random forest, and neural networks were considered. Based on the changes in objectives, the approach has been altered in line with the 'Highlevel methodlogy' outlined earlier.\n",
    "3. **Update of the Initial Data Exploration (sprint-1) notebook** inline with updates to the project."
   ]
  },
  {
   "cell_type": "markdown",
   "id": "d0f6a9cb-512f-47eb-b856-2e4a68509840",
   "metadata": {},
   "source": [
    "[Back to the top](#TableOC)"
   ]
  },
  {
   "cell_type": "markdown",
   "id": "ed0cb60d-4b0b-4451-a89a-fba3a05ccca0",
   "metadata": {},
   "source": [
    "## <font color=teal>Notebook Environtment</font><a id = \"NotebookEnv\"></a>"
   ]
  },
  {
   "cell_type": "markdown",
   "id": "5ac99e63-d3d3-4384-9cc3-42f7b39ac27c",
   "metadata": {},
   "source": [
    "This project utilizes the \"RIS_capstone_env\" environment package created specifically for this project."
   ]
  },
  {
   "cell_type": "markdown",
   "id": "4965fbe9-f30b-47d5-ad2f-836b61037ca1",
   "metadata": {},
   "source": [
    "[Back to the top](#TableOC)"
   ]
  },
  {
   "cell_type": "markdown",
   "id": "706c46ad-2df6-4580-bd83-2dfbda4bdfa8",
   "metadata": {},
   "source": [
    "## <font color=teal>Dataset Source</font><a id = \"DataSource\"></a>"
   ]
  },
  {
   "cell_type": "markdown",
   "id": "180af5f2-87ec-4411-b08f-8228137dbcb4",
   "metadata": {},
   "source": [
    "**Data Source:** \n",
    "US Department of Education, College Scorecard [[1]](#Ref1)\n",
    "\n",
    "**College Scorecard:** An online tool created by the US government to allow users to compare the cost and value of higher institutional learning. Includes data on Title IV Universities (receive federal funding to make tuition affordable).\n",
    "\n",
    "Initiated by President Obama to: \" be able to see how much each school's graduates earn, how much debt they graduate with, and what percentage of a school's students can pay back their loans.\" \n",
    "\n",
    "**Three main components:** \n",
    " - Institutional level data: (6543 universities, 15 categories, 3232 columns) over 26 years (across 26 csv files).\n",
    " - Fields of study at the universities (233,979 study areas, 160 columns) over 6 years (across 5 csv files).\n",
    " - Crosswalks:  map of differing institutional data defintion between university and the federal government (25004 records, 21 columns) over 20 years.\n",
    "\n"
   ]
  },
  {
   "cell_type": "markdown",
   "id": "2c5acd75-83f0-423c-a065-d90b971133e3",
   "metadata": {},
   "source": [
    "#### Data Dictionary:<a id = \"DataDictionary\"></a>"
   ]
  },
  {
   "cell_type": "markdown",
   "id": "ce46abf7-9f08-40a6-92a6-145208927bfe",
   "metadata": {},
   "source": [
    "The dataset provided by College Score contains a wealth and abundance of well documented information of more than 6000 universities with 3000 columns. The following resources utilized together provide a good understanding of the dataset:\n",
    "- A detailed glossary of terms can be found [here](https://surveys.nces.ed.gov/ipeds/public/glossary) [[2]](#Ref2).\n",
    "- An excel file of the full dataset dictonary can be found [here](#https://collegescorecard.ed.gov/data/documentation/) [[3]](#Ref3).\n",
    "- A data frame for the data dictionary of the institutional data was created for this project using the `yaml` file, included with the dataset [[1]](#Ref1). The data frame will be imported here from the `Initial Dataset Exploration` notebook and can be used to look up column information based on the `Column_id` from the institutional data frame from within this notebook."
   ]
  },
  {
   "cell_type": "code",
   "execution_count": 3,
   "id": "3aa9f038-6ee0-4a92-88fb-6fe599748ff4",
   "metadata": {
    "tags": []
   },
   "outputs": [],
   "source": [
    "# Retrieving the stored dataframe:\n",
    "%store -r institution_column_data"
   ]
  },
  {
   "cell_type": "code",
   "execution_count": 4,
   "id": "f56f86f7-849c-45e3-b7a1-3b402d1874e8",
   "metadata": {
    "tags": []
   },
   "outputs": [
    {
     "data": {
      "text/html": [
       "<div>\n",
       "<style scoped>\n",
       "    .dataframe tbody tr th:only-of-type {\n",
       "        vertical-align: middle;\n",
       "    }\n",
       "\n",
       "    .dataframe tbody tr th {\n",
       "        vertical-align: top;\n",
       "    }\n",
       "\n",
       "    .dataframe thead th {\n",
       "        text-align: right;\n",
       "    }\n",
       "</style>\n",
       "<table border=\"1\" class=\"dataframe\">\n",
       "  <thead>\n",
       "    <tr style=\"text-align: right;\">\n",
       "      <th></th>\n",
       "      <th>Category_level_1</th>\n",
       "      <th>Category_level_2</th>\n",
       "      <th>Category_level_3</th>\n",
       "      <th>column_description</th>\n",
       "    </tr>\n",
       "    <tr>\n",
       "      <th>Column_id</th>\n",
       "      <th></th>\n",
       "      <th></th>\n",
       "      <th></th>\n",
       "      <th></th>\n",
       "    </tr>\n",
       "  </thead>\n",
       "  <tbody>\n",
       "    <tr>\n",
       "      <th>PCIP01</th>\n",
       "      <td>academics</td>\n",
       "      <td>program_percentage</td>\n",
       "      <td>agriculture</td>\n",
       "      <td>Percentage of degrees awarded in Agriculture, ...</td>\n",
       "    </tr>\n",
       "    <tr>\n",
       "      <th>PCIP03</th>\n",
       "      <td>academics</td>\n",
       "      <td>program_percentage</td>\n",
       "      <td>resources</td>\n",
       "      <td>Percentage of degrees awarded in Natural Resou...</td>\n",
       "    </tr>\n",
       "    <tr>\n",
       "      <th>PCIP04</th>\n",
       "      <td>academics</td>\n",
       "      <td>program_percentage</td>\n",
       "      <td>architecture</td>\n",
       "      <td>Percentage of degrees awarded in Architecture ...</td>\n",
       "    </tr>\n",
       "    <tr>\n",
       "      <th>PCIP05</th>\n",
       "      <td>academics</td>\n",
       "      <td>program_percentage</td>\n",
       "      <td>ethnic_cultural_gender</td>\n",
       "      <td>Percentage of degrees awarded in Area, Ethnic,...</td>\n",
       "    </tr>\n",
       "    <tr>\n",
       "      <th>PCIP09</th>\n",
       "      <td>academics</td>\n",
       "      <td>program_percentage</td>\n",
       "      <td>communication</td>\n",
       "      <td>Percentage of degrees awarded in Communication...</td>\n",
       "    </tr>\n",
       "  </tbody>\n",
       "</table>\n",
       "</div>"
      ],
      "text/plain": [
       "          Category_level_1    Category_level_2        Category_level_3  \\\n",
       "Column_id                                                                \n",
       "PCIP01           academics  program_percentage             agriculture   \n",
       "PCIP03           academics  program_percentage               resources   \n",
       "PCIP04           academics  program_percentage            architecture   \n",
       "PCIP05           academics  program_percentage  ethnic_cultural_gender   \n",
       "PCIP09           academics  program_percentage           communication   \n",
       "\n",
       "                                          column_description  \n",
       "Column_id                                                     \n",
       "PCIP01     Percentage of degrees awarded in Agriculture, ...  \n",
       "PCIP03     Percentage of degrees awarded in Natural Resou...  \n",
       "PCIP04     Percentage of degrees awarded in Architecture ...  \n",
       "PCIP05     Percentage of degrees awarded in Area, Ethnic,...  \n",
       "PCIP09     Percentage of degrees awarded in Communication...  "
      ]
     },
     "execution_count": 4,
     "metadata": {},
     "output_type": "execute_result"
    }
   ],
   "source": [
    "# Check import was ok:\n",
    "institution_column_data.set_index('Column_id', inplace=True)\n",
    "institution_column_data.head(5)"
   ]
  },
  {
   "cell_type": "code",
   "execution_count": 11,
   "id": "19a34e75-4d1d-4b56-9777-3c1dab28d7bb",
   "metadata": {
    "tags": []
   },
   "outputs": [
    {
     "name": "stdin",
     "output_type": "stream",
     "text": [
      "Enter a column_id from the institutional dataset to search:  PCIP09\n"
     ]
    },
    {
     "name": "stdout",
     "output_type": "stream",
     "text": [
      "\n",
      "Result for PCIP09:\n",
      "          Category_level_1    Category_level_2 Category_level_3  \\\n",
      "Column_id                                                         \n",
      "PCIP09           academics  program_percentage    communication   \n",
      "\n",
      "                                          column_description  \n",
      "Column_id                                                     \n",
      "PCIP09     Percentage of degrees awarded in Communication...  \n"
     ]
    }
   ],
   "source": [
    "# Interactively search the `institutional_column_data` using this cell:\n",
    "\n",
    "# Get the user input\n",
    "search_name = input(\"Enter a column_id from the institutional dataset to search: \")\n",
    "\n",
    "# Convert user input to match the case of the DataFrame index\n",
    "search_name = search_name.upper()  \n",
    "\n",
    "# Search the DataFrame based on user input\n",
    "if search_name in institution_column_data.index:\n",
    "    result = institution_column_data.loc[[search_name]]\n",
    "    print(f\"\\nResult for {search_name}:\\n{result}\")\n",
    "else:\n",
    "    print(f\"\\nNo match found for {search_name}\")"
   ]
  },
  {
   "cell_type": "markdown",
   "id": "8d0791ff-efc1-4d8a-ad45-ba343b5286b8",
   "metadata": {},
   "source": [
    "[Back to the top](#TableOC)"
   ]
  },
  {
   "cell_type": "markdown",
   "id": "dec0bff0-d838-4e01-8d9e-34e403a16aaa",
   "metadata": {},
   "source": [
    "## <font color=teal>Consolidated data for Analysis</font><a id = \"ReferenceList\"></a>"
   ]
  },
  {
   "cell_type": "markdown",
   "id": "5a726590-0ee0-42c0-93e1-c5f27d0fa910",
   "metadata": {},
   "source": [
    "#### Filtering the dataset:"
   ]
  },
  {
   "cell_type": "markdown",
   "id": "c66c3913-fe43-4009-a356-c1be26c16a14",
   "metadata": {},
   "source": [
    "1. **Number of Universities:** The dataset is quite extensive and includes 2-3 colleges and diploma /degree institutions along with institutions with 4-year and higher programs. The focus of this study is bachelor and graduate degrees. As such only institutions providing a highest degree (`HIGHDEG`) as bachelors or graduate degrees.\n",
    "\n",
    "2. **Relevant to predict future earnings** Initially for the baseline this will be done as follows:"
   ]
  },
  {
   "cell_type": "markdown",
   "id": "671845c8-6c6a-4310-af4a-b0dcae4c87ee",
   "metadata": {},
   "source": [
    "The main objective is to be able to use timeseries to make a prediction of the anticipated income a graduating student can expect once graduating from one of the title IV university within the United States (US)."
   ]
  },
  {
   "cell_type": "markdown",
   "id": "6d1f76a7-98a8-49f7-9402-db56a131205a",
   "metadata": {},
   "source": [
    "Some of the **key parameters** we can have a look to predict the future earnings in the dataframe prepared for analysis are:\n",
    "- Universtiy name\n",
    "- Location (latitude / longitude)\n",
    "- Average Admission rate *\n",
    "- SAT average admittance score *\n",
    "- SAT admittance score (75 percentile) average *\n",
    "- ACT average admittance score *\n",
    "- ACT average admittance score(75 percentile) *\n",
    "- Type of institution (Public, Private non-profit, Private for-profit)\n",
    "- Scholarships average *\n",
    "- Grants *\n",
    "- Loans *\n",
    "\n",
    "(*) calculated fields of a running average of the previous 3 years.\n",
    "\n",
    "The **target variable** is:\n",
    "- Potential earnings (10 years after entry to university)."
   ]
  },
  {
   "cell_type": "code",
   "execution_count": 13,
   "id": "71f3a62c-b0d0-4911-b60b-c857fdd0dd64",
   "metadata": {
    "tags": []
   },
   "outputs": [],
   "source": [
    "# Import the libraries:\n",
    "import pandas as pd\n",
    "import numpy as np\n",
    "import seaborn as sns\n",
    "import matplotlib.pyplot as plt\n",
    "from scipy import stats\n",
    "from scipy.stats import norm\n",
    "import re\n",
    "import os"
   ]
  },
  {
   "cell_type": "markdown",
   "id": "4dd57ce2-b4f7-4377-ab00-5cc37ecaee61",
   "metadata": {},
   "source": [
    "First lets combine all the institual data across the years into a new dataframe. While each csv file is appended, add a new column providing the year."
   ]
  },
  {
   "cell_type": "code",
   "execution_count": 14,
   "id": "c5ff809b-e1e7-47ad-ac0c-667a73156403",
   "metadata": {
    "tags": []
   },
   "outputs": [
    {
     "ename": "FileNotFoundError",
     "evalue": "[Errno 2] No such file or directory: '/data'",
     "output_type": "error",
     "traceback": [
      "\u001b[0;31m---------------------------------------------------------------------------\u001b[0m",
      "\u001b[0;31mFileNotFoundError\u001b[0m                         Traceback (most recent call last)",
      "Cell \u001b[0;32mIn[14], line 10\u001b[0m\n\u001b[1;32m      7\u001b[0m combined_data \u001b[38;5;241m=\u001b[39m pd\u001b[38;5;241m.\u001b[39mDataFrame()\n\u001b[1;32m      9\u001b[0m \u001b[38;5;66;03m# Iterate through each CSV file in the directory\u001b[39;00m\n\u001b[0;32m---> 10\u001b[0m \u001b[38;5;28;01mfor\u001b[39;00m filename \u001b[38;5;129;01min\u001b[39;00m \u001b[43mos\u001b[49m\u001b[38;5;241;43m.\u001b[39;49m\u001b[43mlistdir\u001b[49m\u001b[43m(\u001b[49m\u001b[43mcsv_directory\u001b[49m\u001b[43m)\u001b[49m:\n\u001b[1;32m     11\u001b[0m     \u001b[38;5;28;01mif\u001b[39;00m filename\u001b[38;5;241m.\u001b[39mstartswith(\u001b[38;5;124m'\u001b[39m\u001b[38;5;124mMERGED\u001b[39m\u001b[38;5;124m'\u001b[39m):\n\u001b[1;32m     12\u001b[0m         \u001b[38;5;66;03m# Construct the full file path\u001b[39;00m\n\u001b[1;32m     13\u001b[0m         file_path \u001b[38;5;241m=\u001b[39m os\u001b[38;5;241m.\u001b[39mpath\u001b[38;5;241m.\u001b[39mjoin(csv_directory, filename)\n",
      "\u001b[0;31mFileNotFoundError\u001b[0m: [Errno 2] No such file or directory: '/data'"
     ]
    }
   ],
   "source": [
    "# Create a consolidate instutituional dataframe\n",
    "\n",
    "# Path to the institutional data csv files\n",
    "csv_directory = '/data'\n",
    "\n",
    "# Initialize an empty DataFrame to store the combined data\n",
    "combined_data = pd.DataFrame()\n",
    "\n",
    "# Iterate through each CSV file in the directory\n",
    "for filename in os.listdir(csv_directory):\n",
    "    if filename.startswith('MERGED'):\n",
    "        # Construct the full file path\n",
    "        file_path = os.path.join(csv_directory, filename)\n",
    "        \n",
    "        # Extract the year from the filename (assuming the year is part of the filename)\n",
    "        year = int(filename.split('_')[0])  # Modify this based on your filename format\n",
    "        \n",
    "        # Read the CSV file into a DataFrame\n",
    "        df = pd.read_csv(file_path)\n",
    "        \n",
    "        # Add a new column 'Year' with the corresponding year\n",
    "        df['Year'] = year\n",
    "        \n",
    "        # Append the current DataFrame to the combined_data DataFrame\n",
    "        combined_data = combined_data.append(df, ignore_index=True)"
   ]
  },
  {
   "cell_type": "markdown",
   "id": "a4e975a3-f983-4e66-be8c-a019d7279f08",
   "metadata": {},
   "source": [
    "[Back to the top](#TableOC)"
   ]
  },
  {
   "cell_type": "markdown",
   "id": "74a4a456-dcdd-48d7-a3a0-cd2ff563b132",
   "metadata": {},
   "source": [
    "## <font color=teal>Data Cleaning & Exploratory Data Analysis (EDA)</font><a id = \"EDA\"></a>"
   ]
  },
  {
   "cell_type": "markdown",
   "id": "648b0545-b98b-49a7-b486-aaaf7b7ea624",
   "metadata": {},
   "source": [
    "### Data cleaning "
   ]
  },
  {
   "cell_type": "markdown",
   "id": "8329352f-3489-48a2-ba73-b6427e858be6",
   "metadata": {},
   "source": [
    "**Privacy Suppressed**"
   ]
  },
  {
   "cell_type": "markdown",
   "id": "f41894de-f1db-4b86-91ae-23f7c95afdc9",
   "metadata": {},
   "source": [
    "**NaN**"
   ]
  },
  {
   "cell_type": "markdown",
   "id": "f6fe8c49-9cd8-4de2-a4bc-81108d7ab694",
   "metadata": {},
   "source": [
    "### Exploratory Data Analysis (EDA)"
   ]
  },
  {
   "cell_type": "markdown",
   "id": "1e5507a4-d329-47b2-8d72-86c35d8b152c",
   "metadata": {},
   "source": [
    "#### Universities:"
   ]
  },
  {
   "cell_type": "markdown",
   "id": "300729a8-dd45-4082-aa8a-777171332eac",
   "metadata": {},
   "source": [
    "Location, programs, types(private v. non-profit)"
   ]
  },
  {
   "cell_type": "markdown",
   "id": "fbcbcad7-6d9a-4cf1-83da-144430db16f3",
   "metadata": {},
   "source": [
    "##### **Location of the universities**:"
   ]
  },
  {
   "cell_type": "markdown",
   "id": "49509656-938b-43b3-b354-a168736a0bcc",
   "metadata": {},
   "source": [
    "#### Entrance exam scores (SAT & ACT):"
   ]
  },
  {
   "cell_type": "markdown",
   "id": "a087cc66-a6da-47c7-873b-b26fb98b03bf",
   "metadata": {},
   "source": []
  },
  {
   "cell_type": "markdown",
   "id": "74e54fd7-5209-438c-b007-8f187800428a",
   "metadata": {},
   "source": [
    "#### Earnings Expected:"
   ]
  },
  {
   "cell_type": "code",
   "execution_count": null,
   "id": "caffb175-ad57-4ffd-b535-a862c5de017a",
   "metadata": {},
   "outputs": [],
   "source": []
  },
  {
   "cell_type": "markdown",
   "id": "192e165d-563e-4470-9014-149585636caf",
   "metadata": {},
   "source": [
    "#### Loan Repayment:"
   ]
  },
  {
   "cell_type": "markdown",
   "id": "3faae1c2-1b79-4a26-bff8-99d0e4ffb081",
   "metadata": {},
   "source": [
    "Grant, scholarship, Loan"
   ]
  },
  {
   "cell_type": "markdown",
   "id": "6b3a832e-aba8-4210-9b53-17ef1a6d21a6",
   "metadata": {
    "tags": []
   },
   "source": [
    "#### Admission Rate:"
   ]
  },
  {
   "cell_type": "code",
   "execution_count": null,
   "id": "cda31676-809e-4407-9b71-e2e5918c2b6e",
   "metadata": {},
   "outputs": [],
   "source": []
  },
  {
   "cell_type": "markdown",
   "id": "185ca812-8530-4e40-ba46-7fe729900955",
   "metadata": {},
   "source": [
    "[Back to the top](#TableOC)"
   ]
  },
  {
   "cell_type": "markdown",
   "id": "aa8a6f91-a1a9-4369-a27f-7b9b6655909e",
   "metadata": {},
   "source": [
    "## <font color=teal>References</font><a id = \"ReferenceList\"></a>"
   ]
  },
  {
   "cell_type": "markdown",
   "id": "cc51bda4-ad49-4122-9f21-2a90f0c2b486",
   "metadata": {},
   "source": [
    "<a id = \"Ref1\"></a>[[1]](#Data):  \"*Data Home: Download the data*\", v.Oct 2023, College Scorecard, US Dept. of Education, (https://collegescorecard.ed.gov/data/), last viewed: 10 Nov 2023."
   ]
  },
  {
   "cell_type": "markdown",
   "id": "b99b6a84-0ce8-4848-8965-737cb0b71930",
   "metadata": {},
   "source": [
    "<a id = \"Ref1\"></a> [[2]](#DataDictionary): \"*View Glossary*\", IPEDS 2023-24 Data Collection System, (https://surveys.nces.ed.gov/ipeds/public/glossary), last viewed: 10 Nov 2023."
   ]
  },
  {
   "cell_type": "markdown",
   "id": "61627c53-edb3-460c-9a05-4aae170aaf19",
   "metadata": {},
   "source": [
    "<a id = \"Ref1\"></a> [[3]](#DataDictionary): \"*Data Documentation*\", v.Oct 2023, College Scorecard, US Dept. of Education, (https://collegescorecard.ed.gov/data/documentation/), last viewed: 10 Nov 2023."
   ]
  },
  {
   "cell_type": "markdown",
   "id": "4a6d0de1-e962-46c7-80ce-11d424060d92",
   "metadata": {},
   "source": [
    "[Back to the top](#TableOC)"
   ]
  }
 ],
 "metadata": {
  "kernelspec": {
   "display_name": "RIS_capstone_env",
   "language": "python",
   "name": "ris_capstone_env"
  },
  "language_info": {
   "codemirror_mode": {
    "name": "ipython",
    "version": 3
   },
   "file_extension": ".py",
   "mimetype": "text/x-python",
   "name": "python",
   "nbconvert_exporter": "python",
   "pygments_lexer": "ipython3",
   "version": "3.8.18"
  }
 },
 "nbformat": 4,
 "nbformat_minor": 5
}
